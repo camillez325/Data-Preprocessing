{
 "cells": [
  {
   "cell_type": "code",
   "execution_count": 42,
   "metadata": {},
   "outputs": [],
   "source": [
    "file1='/Users/camillezhang/Desktop/camille/nlst_all_series.txt'\n",
    "file2='/Users/camillezhang/Desktop/camille/wrong_series'\n",
    "# file3='/Users/camillezhang/Desktop/camille/wrong_patients'\n",
    "\n",
    "#organize nlst_all_series into a dictionary, with key seriesID, value being patientID/studyID\n",
    "count=0\n",
    "key=None\n",
    "value=None\n",
    "d = dict()\n",
    "\n",
    "with open(file1) as f1:\n",
    "    for line in f1:\n",
    "        count=count+1\n",
    "        key = str.split(line,'/')[8]\n",
    "        value = str.split(line,'/')[6]+'/'+str.split(line,'/')[7]\n",
    "        d[key] = value\n",
    "\n",
    "#sort d based on key\n",
    "d2 = sorted(d.items(), key=lambda x:x[0])\n",
    "\n",
    "#sort f2\n",
    "f2 = open(file2,'r')\n",
    "l2 = f2.read().split('\\n')\n",
    "sl2 = sorted(l2)\n"
   ]
  },
  {
   "cell_type": "code",
   "execution_count": 48,
   "metadata": {},
   "outputs": [
    {
     "name": "stdout",
     "output_type": "stream",
     "text": [
      "4033\n",
      "4033\n"
     ]
    }
   ],
   "source": [
    "# file3='/Users/camillezhang/Desktop/camille/wrong_patients'\n",
    "l3 = []\n",
    "def findCommon(l1,l2,l3):\n",
    "    i, j = 0, 0\n",
    "    while i < len(l1) and j < len(l2):\n",
    "        if l1[i] == l2[j]:\n",
    "            l3.append(l1[i])\n",
    "            i+=1\n",
    "            j+=1\n",
    "        elif l1[i] < l2[j]:\n",
    "            i+=1\n",
    "        elif l1[i] > l2[j]:\n",
    "            j+=1\n",
    "    \n",
    "f3=open(file3,'w')\n",
    "# first = [x[0] for x in d2]\n",
    "# for (key,value) in d2:\n",
    "#     if ( key == \"1.2.840.113654.2.55.683562095920147114382288246690183696\"):\n",
    "#         print(value)\n",
    "\n",
    "#extract all keys that are common to sl1 & sl2\n",
    "sl1=[x[0] for x in d2]\n",
    "findCommon(sl1,sl2,l3)\n",
    "print(len(l3))\n",
    "\n",
    "count=0\n",
    "#store all values in f3\n",
    "for key in l3:\n",
    "    f3.writelines(d[key]+'\\n')\n",
    "    count += 1\n",
    "print(count)\n",
    "\n",
    "\n",
    "    "
   ]
  },
  {
   "cell_type": "code",
   "execution_count": null,
   "metadata": {
    "collapsed": true
   },
   "outputs": [],
   "source": []
  }
 ],
 "metadata": {
  "kernelspec": {
   "display_name": "Python 3",
   "language": "python",
   "name": "python3"
  },
  "language_info": {
   "codemirror_mode": {
    "name": "ipython",
    "version": 3
   },
   "file_extension": ".py",
   "mimetype": "text/x-python",
   "name": "python",
   "nbconvert_exporter": "python",
   "pygments_lexer": "ipython3",
   "version": "3.6.1"
  }
 },
 "nbformat": 4,
 "nbformat_minor": 2
}
