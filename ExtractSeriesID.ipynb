{
 "cells": [
  {
   "cell_type": "code",
   "execution_count": null,
   "metadata": {
    "collapsed": true
   },
   "outputs": [],
   "source": [
    "dir_in='/Users/camillezhang/Desktop/camille/DesktopGT_NLST_6_14.cleaned_iter_1 (1).json'\n",
    "dir_out='/Users/camillezhang/Desktop/camille/wrong_series'\n",
    "\n",
    "#extract all series UID that has boolean to be false\n",
    "import json\n",
    "with open(dir_in) as file:\n",
    "    f = json.load(file)\n",
    "\n",
    "print(len(f))\n",
    "\n",
    "fo = open(dir_out,\"w\")\n",
    "\n",
    "count=0\n",
    "for d in f:\n",
    "  if d[\"flag_clean_iter1\"] == False:\n",
    "    print(d[\"series_uid\"])\n",
    "#     fo.writelines(d[\"series_uid\"]+'\\n')\n",
    "    \n",
    "    count = count+1\n",
    "print(count)\n",
    "   \n",
    "    "
   ]
  },
  {
   "cell_type": "code",
   "execution_count": null,
   "metadata": {
    "collapsed": true
   },
   "outputs": [],
   "source": []
  }
 ],
 "metadata": {
  "kernelspec": {
   "display_name": "Python 3",
   "language": "python",
   "name": "python3"
  },
  "language_info": {
   "codemirror_mode": {
    "name": "ipython",
    "version": 3
   },
   "file_extension": ".py",
   "mimetype": "text/x-python",
   "name": "python",
   "nbconvert_exporter": "python",
   "pygments_lexer": "ipython3",
   "version": "3.6.1"
  }
 },
 "nbformat": 4,
 "nbformat_minor": 2
}
